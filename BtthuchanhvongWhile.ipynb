{
 "cells": [
  {
   "cell_type": "code",
   "execution_count": 1,
   "id": "f8efadeb",
   "metadata": {},
   "outputs": [
    {
     "name": "stdout",
     "output_type": "stream",
     "text": [
      "Nhap n tinh n giai thua: 3\n",
      "6\n"
     ]
    }
   ],
   "source": [
    "n = int(input(\"Nhap n tinh n giai thua: \"))\n",
    "tich = 1\n",
    "while n >= 1:\n",
    "    tich = tich * n\n",
    "    n = n - 1\n",
    "print(tich)"
   ]
  },
  {
   "cell_type": "code",
   "execution_count": 2,
   "id": "1b531fef",
   "metadata": {},
   "outputs": [
    {
     "name": "stdout",
     "output_type": "stream",
     "text": [
      "Nhap so x bat ki: 5\n",
      "Nhap so y bat ki: 6\n",
      "61.0\n"
     ]
    }
   ],
   "source": [
    "x = float(input(\"Nhap so x bat ki: \"))\n",
    "y = float(input(\"Nhap so y bat ki: \"))\n",
    "while x >= y:\n",
    "    x = float(input(\"Nhap so x bat ki: \"))\n",
    "    y = float(input(\"Nhap so y bat ki: \"))\n",
    "tong = 0\n",
    "while x <= y:\n",
    "    tong = tong + x**2\n",
    "    x = x + 1\n",
    "print(tong)"
   ]
  },
  {
   "cell_type": "code",
   "execution_count": 4,
   "id": "caf0a4db",
   "metadata": {},
   "outputs": [
    {
     "name": "stdout",
     "output_type": "stream",
     "text": [
      "Nhap mot so nguyen duong: 4\n",
      "4 khong phai la so hoan chinh\n"
     ]
    }
   ],
   "source": [
    "#Bai 3:\n",
    "x = int(input(\"Nhap mot so nguyen duong: \"))\n",
    "n = 1\n",
    "tong = 0\n",
    "while n < x:\n",
    "    if x % n == 0:\n",
    "        tong = tong + n\n",
    "    n = n + 1\n",
    "if tong == x:\n",
    "    print(f\"{x} la so hoan chinh\")\n",
    "else:\n",
    "    print(f\"{x} khong phai la so hoan chinh\")\n",
    "        "
   ]
  },
  {
   "cell_type": "code",
   "execution_count": 5,
   "id": "3a6fc517",
   "metadata": {},
   "outputs": [
    {
     "name": "stdout",
     "output_type": "stream",
     "text": [
      "Nhap vao so a: 5\n",
      "Nhap vao so b: 7\n",
      "Tong la 12\n",
      "Tich la 6\n"
     ]
    }
   ],
   "source": [
    "#Bai 4:\n",
    "a = int(input(\"Nhap vao so a: \"))\n",
    "b = int(input(\"Nhap vao so b: \"))\n",
    "while a > b:\n",
    "    a = int(input(\"Nhap vao so a: \"))\n",
    "    b = int(input(\"Nhap vao so b: \"))\n",
    "tong = 0\n",
    "tich = 1\n",
    "while a <= b:\n",
    "    if a % 2 == 0:\n",
    "        tich = tich*a\n",
    "    else:\n",
    "        tong = tong + a\n",
    "    a = a + 1\n",
    "print(f\"Tong la {tong}\")\n",
    "print(f\"Tich la {tich}\")\n",
    "\n"
   ]
  },
  {
   "cell_type": "code",
   "execution_count": 6,
   "id": "a119a51b",
   "metadata": {},
   "outputs": [
    {
     "name": "stdout",
     "output_type": "stream",
     "text": [
      "Nhap so n: 6\n",
      "Tong S la  2.45000\n"
     ]
    }
   ],
   "source": [
    "#Bai5\n",
    "n = int(input(\"Nhap so n: \"))\n",
    "tong = 0\n",
    "while n >= 1:\n",
    "    tong = tong + 1/n\n",
    "    n = n -1\n",
    "print(f\"Tong S la {tong: .5f}\")"
   ]
  },
  {
   "cell_type": "code",
   "execution_count": 7,
   "id": "a4d758f5",
   "metadata": {},
   "outputs": [
    {
     "name": "stdout",
     "output_type": "stream",
     "text": [
      "Nhap vao mot day so: 5 6 8 9\n",
      "Gia tri lon nhat la 8\n",
      "Gia tri nho nhat la 5\n"
     ]
    }
   ],
   "source": [
    "#Bai 6:\n",
    "n = input(\"Nhap vao mot day so: \")\n",
    "i = 0\n",
    "maxChan = 0\n",
    "minLe = 9\n",
    "while i < len(n):\n",
    "    if n[i].isnumeric():\n",
    "        if int(n[i]) % 2 == 0:\n",
    "           if int(n[i]) > maxChan:\n",
    "               maxChan = int(n[i])\n",
    "        else:\n",
    "            if int(n[i]) < minLe:\n",
    "                minLe = int(n[i])\n",
    "    i = i + 1\n",
    "print(f\"Gia tri lon nhat la {maxChan}\")\n",
    "print(f\"Gia tri nho nhat la {minLe}\")\n",
    "\n"
   ]
  },
  {
   "cell_type": "code",
   "execution_count": null,
   "id": "e8b89c20",
   "metadata": {},
   "outputs": [],
   "source": [
    "#Bai 8:\n",
    "chuoi = input(\"Nhap vao mot chuoi: \")\n",
    "i = 0\n",
    "chuoimoi = \"\"\n",
    "while i < len(chuoi):\n",
    "    if chuoi[i].isupper():\n",
    "        chuoimoi = chuoimoi + \" \" + chuoi[i].lower()\n",
    "    else:\n",
    "        chuoimoi = chuoimoi + chuoi[i]\n",
    "    i = i + 1\n",
    "print(chuoimoi)"
   ]
  }
 ],
 "metadata": {
  "kernelspec": {
   "display_name": "Python 3 (ipykernel)",
   "language": "python",
   "name": "python3"
  },
  "language_info": {
   "codemirror_mode": {
    "name": "ipython",
    "version": 3
   },
   "file_extension": ".py",
   "mimetype": "text/x-python",
   "name": "python",
   "nbconvert_exporter": "python",
   "pygments_lexer": "ipython3",
   "version": "3.9.12"
  }
 },
 "nbformat": 4,
 "nbformat_minor": 5
}
